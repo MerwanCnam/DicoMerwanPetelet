{
 "cells": [
  {
   "cell_type": "markdown",
   "source": [
    "# Manipulation des dataframes"
   ],
   "metadata": {
    "collapsed": false,
    "pycharm": {
     "name": "#%% md\n"
    }
   }
  },
  {
   "cell_type": "markdown",
   "source": [
    "##### Importation de pandas et lecture des csvs"
   ],
   "metadata": {
    "collapsed": false
   }
  },
  {
   "cell_type": "code",
   "execution_count": 2,
   "outputs": [],
   "source": [
    "import pandas as pd\n",
    "\n",
    "# répertoire des csvs\n",
    "cheminCSV = \"./../data/dictionary/\"\n",
    "\n",
    "# lecture des 4 fichiers\n",
    "dfDicoBuch = pd.read_csv(cheminCSV + \"1757_Buchanan-J.csv\", delimiter=\";\", encoding=\"utf8\")\n",
    "dfDicoBigi = pd.read_csv(cheminCSV + \"2015_Bigi-B.dict\", delimiter=\" \\[\\] \", encoding=\"utf8\", engine='python', names=['motVedette','pronSampa'], skiprows=8 )\n",
    "BuchananPron = pd.read_csv(cheminCSV + \"Buchanan_PronChar_counts.csv\", delimiter=\";\", header = 0, encoding=\"utf8\")\n",
    "dfMappingSampaIpa = pd.read_csv(cheminCSV + \"sampa-ipa.txt\", delimiter=\"  *\", encoding=\"utf8\", engine='python', names=['pronSampa','ipa'])\n"
   ],
   "metadata": {
    "collapsed": false,
    "pycharm": {
     "name": "#%%\n"
    }
   }
  },
  {
   "cell_type": "markdown",
   "source": [
    "##### Fonctions de conversions"
   ],
   "metadata": {
    "collapsed": false
   }
  },
  {
   "cell_type": "code",
   "execution_count": 3,
   "outputs": [],
   "source": [
    "#conversion pour obtenir le mot vedette à partir de la colonne pron\n",
    "def vieux2recent(mot, dfMapping):\n",
    "    motV = \"\"\n",
    "\n",
    "    for lettre in mot:\n",
    "        dfRowFinded = dfMapping[dfMapping['char']==lettre]\n",
    "        if len(dfRowFinded==1):\n",
    "            motV+=str(dfRowFinded.iloc[0]['graph'])\n",
    "        else:\n",
    "            motV+='?'\n",
    "    return motV\n",
    "\n",
    "#conversion pour obtenir la pronciation IPA à partir de la Sampa\n",
    "def sampa2ipa(strSampa, dfMapping):\n",
    "    ipaRes = \"\"\n",
    "\n",
    "    listValSampa = strSampa.split(\" \")\n",
    "    for valSampa in listValSampa:\n",
    "        dfRowFinded = dfMapping[dfMapping['pronSampa']==valSampa]\n",
    "\n",
    "        if len(dfRowFinded==1):\n",
    "            ipaRes+=dfRowFinded.iloc[0]['ipa']\n",
    "        else:\n",
    "            ipaRes+='?'\n",
    "    return ipaRes"
   ],
   "metadata": {
    "collapsed": false,
    "pycharm": {
     "name": "#%%\n"
    }
   }
  },
  {
   "cell_type": "markdown",
   "source": [
    "##### Manipulations"
   ],
   "metadata": {
    "collapsed": false
   }
  },
  {
   "cell_type": "code",
   "execution_count": 4,
   "outputs": [],
   "source": [
    "#Remplacement des vides\n",
    "BuchananPron = BuchananPron.fillna(\"\")"
   ],
   "metadata": {
    "collapsed": false,
    "pycharm": {
     "name": "#%%\n"
    }
   }
  },
  {
   "cell_type": "code",
   "execution_count": 5,
   "outputs": [],
   "source": [
    "#Colonne mot vedette\n",
    "dfDicoBuch['motVedette'] = dfDicoBuch.apply(lambda x: vieux2recent(x['pron'], BuchananPron),1)"
   ],
   "metadata": {
    "collapsed": false,
    "pycharm": {
     "name": "#%%\n"
    }
   }
  },
  {
   "cell_type": "code",
   "execution_count": 12,
   "outputs": [
    {
     "data": {
      "text/plain": "5467"
     },
     "execution_count": 12,
     "metadata": {},
     "output_type": "execute_result"
    }
   ],
   "source": [
    "#ajout de la prononciation Sampa\n",
    "#Afin d'avoir un maximum de mots, j'ai utilisé le dictionnaire Bigi qui contient\n",
    "#beaucoup plus de mots que BigiRichSample.csv.\n",
    "dfDicoBuch = dfDicoBuch.merge(dfDicoBigi, on=\"motVedette\", how = \"left\")\n",
    "dfDicoBuch['pronSampa'] = dfDicoBuch['pronSampa'].fillna(\"\")\n",
    "\n",
    "pasDansBigi = dfDicoBuch[dfDicoBuch.pronSampa==\"\"]\n",
    "print(len(pasDansBigi['motVedette']))\n",
    "print(pasDansBigi)\n",
    "#5467 mots ne sont tout de même pas présents dans Bigi.\n",
    "# Il s'agit visiblement de mots qui ne sont plus couramment utilisé au\n",
    "# vue de l'âge du dictionnaire ou dont l'orthographe a évoluée."
   ],
   "metadata": {
    "collapsed": false,
    "pycharm": {
     "name": "#%%\n"
    }
   }
  },
  {
   "cell_type": "code",
   "execution_count": 7,
   "outputs": [],
   "source": [
    "#ajout de la prononciation IPA\n",
    "dfDicoBuch['ipa'] = dfDicoBuch.apply(lambda x: sampa2ipa(x['pronSampa'], dfMappingSampaIpa),1)"
   ],
   "metadata": {
    "collapsed": false,
    "pycharm": {
     "name": "#%%\n"
    }
   }
  },
  {
   "cell_type": "markdown",
   "source": [
    "##### Sauvegarde du CSV enrichi"
   ],
   "metadata": {
    "collapsed": false,
    "pycharm": {
     "name": "#%% md\n"
    }
   }
  },
  {
   "cell_type": "code",
   "execution_count": 8,
   "outputs": [],
   "source": [
    "dfDicoBuch.to_csv(\"./../data/dataframe/BuchananRich.csv\", index = False)"
   ],
   "metadata": {
    "collapsed": false,
    "pycharm": {
     "name": "#%%\n"
    }
   }
  }
 ],
 "metadata": {
  "kernelspec": {
   "display_name": "Python 3",
   "language": "python",
   "name": "python3"
  },
  "language_info": {
   "codemirror_mode": {
    "name": "ipython",
    "version": 3
   },
   "file_extension": ".py",
   "mimetype": "text/x-python",
   "name": "python",
   "nbconvert_exporter": "python",
   "pygments_lexer": "ipython3",
   "version": "3.8.5"
  }
 },
 "nbformat": 4,
 "nbformat_minor": 4
}