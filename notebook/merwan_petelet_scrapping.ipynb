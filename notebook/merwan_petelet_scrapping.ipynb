{
 "cells": [
  {
   "cell_type": "markdown",
   "metadata": {},
   "source": [
    "# Scraping sur le site dictionary.cambridge.org"
   ]
  },
  {
   "cell_type": "markdown",
   "source": [
    "##### Importation des librairies"
   ],
   "metadata": {
    "collapsed": false,
    "pycharm": {
     "name": "#%% md\n"
    }
   }
  },
  {
   "cell_type": "code",
   "execution_count": 2,
   "metadata": {
    "pycharm": {
     "name": "#%%\n"
    }
   },
   "outputs": [],
   "source": [
    "from requests_html import HTMLSession\n",
    "from bs4 import BeautifulSoup"
   ]
  },
  {
   "cell_type": "markdown",
   "source": [
    "##### Fonction récupérant les URLs des fichiers audio, les différents POS et les prononciations IPA"
   ],
   "metadata": {
    "collapsed": false
   }
  },
  {
   "cell_type": "code",
   "execution_count": 3,
   "metadata": {
    "pycharm": {
     "name": "#%%\n"
    }
   },
   "outputs": [],
   "source": [
    "def lien(hwd):\n",
    "    #récupération du html de la page\n",
    "    session = HTMLSession()\n",
    "    urlTarget = \"https://dictionary.cambridge.org/dictionary/english/\" + hwd\n",
    "    response = session.get(urlTarget)\n",
    "\n",
    "    #div qui nous intéresse\n",
    "    soup = BeautifulSoup(response.text,'html.parser')\n",
    "    soup = soup.find('div',{\"class\":\"entry-body\"})\n",
    "\n",
    "    #récupération des audios et test si la page existe\n",
    "    souplettesAudio = soup.findAll('amp-audio')\n",
    "    if(len(souplettesAudio)>0):\n",
    "        baseURL = \"https://dictionary.cambridge.org/\"\n",
    "        audios = []\n",
    "        for i in range (0, len(souplettesAudio)):\n",
    "            audios.append(baseURL + souplettesAudio[i].find('source')[\"src\"])\n",
    "        # récupération des POS\n",
    "        pos = []\n",
    "        souplettePos = soup.findAll('span',{\"class\":\"pos dpos\"})\n",
    "        for i in range (0, len(souplettePos)): \n",
    "            if not pos.__contains__(souplettePos[i].text):\n",
    "                pos.append(souplettePos[i].text)\n",
    "\n",
    "        #Récupération des prononciations\n",
    "        ipa = []\n",
    "        soupletteIPA = soup.findAll('span',{\"class\":\"ipa dipa lpr-2 lpl-1\"})\n",
    "        for i in range (0, len(soupletteIPA)):\n",
    "            ipa.append(soupletteIPA[i].text)\n",
    "            \n",
    "        return audios, pos, ipa\n",
    "    else:\n",
    "        raise Exception(\"Veuillez vérifier votre saisie.\")\n"
   ]
  },
  {
   "cell_type": "markdown",
   "source": [
    "##### Test de la fonction"
   ],
   "metadata": {
    "collapsed": false,
    "pycharm": {
     "name": "#%% md\n"
    }
   }
  },
  {
   "cell_type": "code",
   "execution_count": 4,
   "metadata": {
    "pycharm": {
     "name": "#%%\n"
    }
   },
   "outputs": [
    {
     "name": "stdout",
     "output_type": "stream",
     "text": [
      "['https://dictionary.cambridge.org//media/english/uk_pron/u/ukl/uklou/ukloudn014.mp3', 'https://dictionary.cambridge.org//media/english/us_pron/l/lov/love_/love.mp3', 'https://dictionary.cambridge.org//media/english/uk_pron/u/ukl/uklou/ukloudn014.mp3', 'https://dictionary.cambridge.org//media/english/us_pron/l/lov/love_/love.mp3']\n",
      "['verb', 'noun']\n",
      "['lʌv', 'lʌv', 'lʌv', 'lʌv']\n"
     ]
    }
   ],
   "source": [
    "audios, pos, ipa = lien(\"love\")\n",
    "print(audios)\n",
    "print(pos)\n",
    "print(ipa)\n"
   ]
  }
 ],
 "metadata": {
  "kernelspec": {
   "display_name": "Python 3 (ipykernel)",
   "language": "python",
   "name": "python3"
  },
  "language_info": {
   "codemirror_mode": {
    "name": "ipython",
    "version": 3
   },
   "file_extension": ".py",
   "mimetype": "text/x-python",
   "name": "python",
   "nbconvert_exporter": "python",
   "pygments_lexer": "ipython3",
   "version": "3.9.7"
  }
 },
 "nbformat": 4,
 "nbformat_minor": 4
}