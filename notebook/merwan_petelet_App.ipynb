{
 "cells": [
  {
   "cell_type": "markdown",
   "metadata": {
    "tags": []
   },
   "source": [
    "# Application\n",
    "*par Merwan Petelet*"
   ]
  },
  {
   "cell_type": "code",
   "metadata": {
    "pycharm": {
     "name": "#%%\n"
    }
   },
   "source": [
    "##### Importation des librairies"
   ],
   "execution_count": null,
   "outputs": []
  },
  {
   "cell_type": "code",
   "execution_count": 1,
   "metadata": {},
   "outputs": [],
   "source": [
    "pip install moviepy\n",
    "from IPython.display import display, clear_output, HTML\n",
    "import ipywidgets as widgets\n",
    "from IPython import display as dis\n",
    "import pandas as pd\n",
    "from requests_html import HTMLSession\n",
    "from moviepy.editor import AudioFileClip\n",
    "import re\n",
    "from bs4 import BeautifulSoup\n",
    "from pylab import specgram, show"
   ]
  },
  {
   "cell_type": "code",
   "metadata": {
    "pycharm": {
     "name": "#%%\n"
    }
   },
   "source": [
    "##### Dictionnaire réalisé dans la partie précédente"
   ],
   "execution_count": null,
   "outputs": []
  },
  {
   "cell_type": "code",
   "execution_count": 2,
   "metadata": {
    "pycharm": {
     "name": "#%%\n"
    }
   },
   "outputs": [],
   "source": [
    "cheminDuFichierCSV = \"./../data/dataframe/BuchananRich.csv\"\n",
    "dico = pd.read_csv(cheminDuFichierCSV, delimiter=\",\", encoding=\"utf8\")\n",
    "dico = dico.fillna(\"\")"
   ]
  },
  {
   "cell_type": "code",
   "metadata": {
    "pycharm": {
     "name": "#%%\n"
    }
   },
   "source": [
    "##### filtres en widget sur le mot vedette et l'IPA et la taille maximale ainsi que le bouton et les sorties"
   ],
   "execution_count": null,
   "outputs": []
  },
  {
   "cell_type": "code",
   "execution_count": 3,
   "metadata": {},
   "outputs": [],
   "source": [
    "motVed = widgets.Text(\n",
    "       value=\"\",\n",
    "       description='Mot vedette',\n",
    "       layout={'width': '300px'} )\n",
    "\n",
    "pronIPA = widgets.Text(\n",
    "       value=\"\",\n",
    "       description='pron. IPA',\n",
    "       layout={'width': '300px'} )\n",
    "\n",
    "tailleMax = widgets.IntSlider(\n",
    "min=1,\n",
    "max=10,\n",
    "step=1,\n",
    "description='nbMots',\n",
    "value = 3\n",
    ")\n",
    "\n",
    "# définition du widget button permettant de lancer l'extraction\n",
    "button = widgets.Button(description='Démarrer')\n",
    "\n",
    "# définition du widget permettant l'affichage d'une sortie\n",
    "out1 = widgets.Output()\n",
    "out2 = widgets.Output()"
   ]
  },
  {
   "cell_type": "code",
   "metadata": {
    "pycharm": {
     "name": "#%%\n"
    }
   },
   "source": [
    "##### fonction de scrapping de la 1ère partie avec seulement le lien mp3 de l'audio"
   ],
   "execution_count": null,
   "outputs": []
  },
  {
   "cell_type": "code",
   "execution_count": 4,
   "metadata": {},
   "outputs": [],
   "source": [
    "def lien(hwd):\n",
    "    session = HTMLSession()\n",
    "    urlTarget = \"https://dictionary.cambridge.org/dictionary/english/\" + hwd\n",
    "    response = session.get(urlTarget)\n",
    "    soup = BeautifulSoup(response.text,'html.parser')\n",
    "    souplettesAudio = soup.findAll('amp-audio')\n",
    "    if len(souplettesAudio)>0:\n",
    "        baseURL = \"https://dictionary.cambridge.org/\"\n",
    "        audioUK = baseURL + souplettesAudio[0].find('source')[\"src\"]\n",
    "        audioUS = baseURL + souplettesAudio[1].find('source')[\"src\"]\n",
    "        return audioUS, audioUK\n",
    "    else:\n",
    "        return \"Audio introuvable\", \"Audio introuvable\""
   ]
  },
  {
   "cell_type": "code",
   "metadata": {
    "pycharm": {
     "name": "#%%\n"
    }
   },
   "source": [
    "##### fonction utilisée lors du clic sur le bouton"
   ],
   "execution_count": null,
   "outputs": []
  },
  {
   "cell_type": "code",
   "execution_count": 5,
   "metadata": {},
   "outputs": [],
   "source": [
    "# spécifier les actions à réaliser lors de l'appui sur le bouton\n",
    "def on_button_clicked(_):\n",
    "    session = HTMLSession()\n",
    "\n",
    "    # récupérer le texte saisi par l'utilisateur\n",
    "    resultat = dico[dico.motVedette.str.contains(motVed.value, na=False,flags=re.IGNORECASE, regex=True)]\n",
    "    resultat = resultat[resultat.ipa.str.contains(pronIPA.value, na=False,flags=re.IGNORECASE, regex=True)]\n",
    "\n",
    "    #filtre si plus de mots sont trouvés que le max\n",
    "    if len(resultat)>tailleMax.value:\n",
    "        resultat = resultat.sample(tailleMax.value)\n",
    "\n",
    "    #tableau\n",
    "    mots = []\n",
    "    with out1:\n",
    "        clear_output()\n",
    "        page = \"<table><tr><th width='10%'> mot vedette </th><th width='5%'> nbSyll </th><th width='15%'> pronOrigine </th><th width='10%'> pronSampa </th><th width='10%'> pronIPA </th></tr>\"\n",
    "        for i in range(0, len(resultat)) :\n",
    "            mots.append(resultat[\"motVedette\"].iloc[i])\n",
    "            page += \"<tr><td align='left'>\"+ resultat[\"motVedette\"].iloc[i] +\"</td><td>\"+ str(resultat[\"nbSyll\"].iloc[i]) +\"</td><td>\"+ resultat[\"pron\"].iloc[i] +\"</td><td>\"+ resultat[\"pronSampa\"].iloc[i] +\"</td><td>\"+ resultat[\"ipa\"].iloc[i] +\"</td></tr>\"\n",
    "        page += \"</table>\"\n",
    "        display(HTML(page))\n",
    "\n",
    "    #audios\n",
    "    with out2:\n",
    "        clear_output()\n",
    "        for mot in mots:\n",
    "            urlUS, urlUK = lien(mot)\n",
    "            display(HTML(\"<h3> Mot vedette : \" + mot + \"</h3><br/>\"))\n",
    "            if(urlUS==\"Audio introuvable\"):\n",
    "                display(HTML(urlUS))\n",
    "            else:\n",
    "                audio = session.get(urlUS)\n",
    "                localPathUS = \"./../data/audio/\" + mot + \"US.mp3\"\n",
    "                open(localPathUS, 'wb').write(audio.content)\n",
    "                audio = session.get(urlUK)\n",
    "                localPathUK = \"./../data/audio/\" + mot + \"UK.mp3\"\n",
    "                open(localPathUK, 'wb').write(audio.content)\n",
    "                display(HTML(\"prononciation US : \"))\n",
    "                dis.display(dis.Audio(url=urlUS))\n",
    "                audio = AudioFileClip(localPathUS)\n",
    "                sound_array = audio.to_soundarray()\n",
    "                specgram(sound_array[:,0])\n",
    "                show()\n",
    "                display(HTML(\"prononciation UK : \"))\n",
    "                dis.display(dis.Audio(url=urlUK))\n",
    "                audio = AudioFileClip(localPathUK)\n",
    "                sound_array = audio.to_soundarray()\n",
    "                specgram(sound_array[:,0])\n",
    "                show()\n",
    "                display(HTML(\"<br/>\"))\n",
    "\n",
    "        \n",
    "\n",
    "button.on_click(on_button_clicked)"
   ]
  },
  {
   "cell_type": "code",
   "metadata": {
    "pycharm": {
     "name": "#%%\n"
    }
   },
   "source": [
    "##### layout des widgets"
   ],
   "execution_count": null,
   "outputs": []
  },
  {
   "cell_type": "code",
   "execution_count": 6,
   "metadata": {},
   "outputs": [],
   "source": [
    "# les widgets de filtre input\n",
    "vbFiltres = widgets.HBox([motVed, pronIPA, tailleMax])\n",
    "\n",
    "# les widgets d'output\n",
    "vbOuts = widgets.VBox([out1, out2])\n",
    "hbAllWidgets = widgets.VBox([vbFiltres, button, vbOuts])"
   ]
  },
  {
   "cell_type": "code",
   "metadata": {
    "pycharm": {
     "name": "#%%\n"
    }
   },
   "source": [
    "##### affichage de l'application"
   ],
   "execution_count": null,
   "outputs": []
  },
  {
   "cell_type": "code",
   "execution_count": 7,
   "metadata": {
    "pycharm": {
     "name": "#%%\n"
    }
   },
   "outputs": [
    {
     "data": {
      "application/vnd.jupyter.widget-view+json": {
       "model_id": "ffb33dfc7b67406ebdece7294bc5e5cc",
       "version_major": 2,
       "version_minor": 0
      },
      "text/plain": [
       "VBox(children=(HBox(children=(Text(value='', description='Mot vedette', layout=Layout(width='300px')), Text(va…"
      ]
     },
     "metadata": {},
     "output_type": "display_data"
    }
   ],
   "source": [
    "hbAllWidgets"
   ]
  }
 ],
 "metadata": {
  "kernelspec": {
   "display_name": "Python 3 (ipykernel)",
   "language": "python",
   "name": "python3"
  },
  "language_info": {
   "codemirror_mode": {
    "name": "ipython",
    "version": 3
   },
   "file_extension": ".py",
   "mimetype": "text/x-python",
   "name": "python",
   "nbconvert_exporter": "python",
   "pygments_lexer": "ipython3",
   "version": "3.9.7"
  }
 },
 "nbformat": 4,
 "nbformat_minor": 4
}